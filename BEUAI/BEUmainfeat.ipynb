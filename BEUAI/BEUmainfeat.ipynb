{
 "cells": [
  {
   "cell_type": "code",
   "execution_count": null,
   "id": "d9ac62cb-e2e7-44bc-942d-58f3194f0284",
   "metadata": {},
   "outputs": [],
   "source": [
    "## BEU AND FEATURES\n"
   ]
  },
  {
   "cell_type": "code",
   "execution_count": null,
   "id": "2988d8b1-8b2f-4b8b-b099-e90a920beba3",
   "metadata": {},
   "outputs": [],
   "source": []
  }
 ],
 "metadata": {
  "kernelspec": {
   "display_name": "Python 3 (ipykernel)",
   "language": "python",
   "name": "python3"
  },
  "language_info": {
   "codemirror_mode": {
    "name": "ipython",
    "version": 3
   },
   "file_extension": ".py",
   "mimetype": "text/x-python",
   "name": "python",
   "nbconvert_exporter": "python",
   "pygments_lexer": "ipython3",
   "version": "3.12.1"
  }
 },
 "nbformat": 4,
 "nbformat_minor": 5
}
